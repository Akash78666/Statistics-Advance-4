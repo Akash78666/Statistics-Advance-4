{
 "cells": [
  {
   "cell_type": "markdown",
   "id": "84fa2aa5-69b3-4a31-8645-87a76d65dc65",
   "metadata": {},
   "source": [
    "Q1: What is the difference between a t-test and a z-test? Provide an example scenario where you would\n",
    "use each type of test."
   ]
  },
  {
   "cell_type": "markdown",
   "id": "65b5f9de-1f48-41d8-ade6-590684220164",
   "metadata": {},
   "source": [
    "Ans:-The main difference between a t-test and a z-test is the type of data and the assumptions made about the population.\n",
    "\n",
    "A z-test is used when the population standard deviation is known and the sample size is large (typically n > 30). A t-test is used when the population standard deviation is unknown and the sample size is small to moderate (typically n < 30).\n",
    "\n",
    "Here are some example scenarios where you would use each type of test:\n",
    "\n",
    "Scenario for using a z-test:\n",
    "A manufacturer claims that their machines fill bags of chips with 5 ounces each, with a known standard deviation of 0.1 ounces. A quality control inspector takes a random sample of 50 bags and finds that the sample mean weight is 4.9 ounces. In this scenario, we would use a z-test to determine if the sample mean is significantly different from the claimed population mean of 5 ounces, since we know the population standard deviation and the sample size is large.\n",
    "\n",
    "Scenario for using a t-test:\n",
    "A psychologist wants to test if a new therapy significantly improves anxiety levels in patients. The psychologist randomly selects 20 patients with anxiety disorders and randomly assigns 10 to the treatment group and 10 to the control group. After 8 weeks, the psychologist measures the anxiety levels of each patient and finds that the sample mean for the treatment group is 20 and the sample mean for the control group is 25, with a pooled standard deviation of 5. In this scenario, we would use a t-test to determine if there is a significant difference between the population means of anxiety levels for the treatment and control groups, since the population standard deviation is unknown and the sample size is small to moderate."
   ]
  },
  {
   "cell_type": "code",
   "execution_count": null,
   "id": "5791bf1b-a8e6-4dc1-bf09-7746839ca00a",
   "metadata": {},
   "outputs": [],
   "source": [
    "Q2: Differentiate between one-tailed and two-tailed tests."
   ]
  },
  {
   "cell_type": "markdown",
   "id": "a70a0600-5c2a-4851-9ecd-7b83c3715810",
   "metadata": {},
   "source": [
    "Ans:-One-tailed and two-tailed tests are two types of statistical hypothesis tests that differ in the directionality of the hypothesis being tested and the region of the distribution considered for rejecting the null hypothesis.\n",
    "\n",
    "A one-tailed test is used when the null hypothesis specifies a particular direction of the difference or relationship between the sample and population, and the alternative hypothesis represents only that direction. In other words, a one-tailed test is used when we are interested in testing if a parameter is either greater than or less than a certain value, but not both. The critical region for a one-tailed test is either the upper or lower tail of the distribution, depending on the direction of the alternative hypothesis.\n",
    "\n",
    "A two-tailed test is used when the null hypothesis does not specify a particular direction of the difference or relationship between the sample and population, and the alternative hypothesis represents a difference in either direction. In other words, a two-tailed test is used when we are interested in testing if a parameter is different from a certain value, either greater than or less than. The critical region for a two-tailed test is split between the upper and lower tails of the distribution.\n",
    "\n",
    "For example, consider a study that examines the relationship between exercise and weight loss. A one-tailed test would be appropriate if the hypothesis is that exercise results in weight loss, and the alternative hypothesis is that there is a significant decrease in weight. A two-tailed test would be appropriate if the hypothesis is that there is a relationship between exercise and weight loss, and the alternative hypothesis is that there is a significant difference in weight, regardless of whether it is an increase or decrease"
   ]
  },
  {
   "cell_type": "code",
   "execution_count": null,
   "id": "6ba377a6-1908-45e3-be19-cfc43aabb334",
   "metadata": {},
   "outputs": [],
   "source": [
    "Q3: Explain the concept of Type 1 and Type 2 errors in hypothesis testing. Provide an example scenario for\n",
    "each type of error."
   ]
  },
  {
   "cell_type": "markdown",
   "id": "a86eadb1-6ca3-4676-b6f1-4264f49aa6f4",
   "metadata": {},
   "source": [
    "Ans:-In hypothesis testing, there are two types of errors: Type I and Type II errors.\n",
    "\n",
    "Type I Error:\n",
    "Type I error is also known as a false positive. It occurs when a researcher rejects a null hypothesis when it is actually true. In other words, it is the error of concluding that there is a significant difference or effect when no such difference or effect exists. The probability of making a type I error is denoted by α (alpha) and is also known as the level of significance.\n",
    "\n",
    "Example scenario:\n",
    "Suppose a medical researcher is testing a new drug and concludes that it is effective in treating a disease, when in fact it is not effective. This would be a type I error because the researcher has falsely concluded that the drug is effective when it is not.\n",
    "\n",
    "Type II Error:\n",
    "Type II error is also known as a false negative. It occurs when a researcher fails to reject a null hypothesis when it is actually false. In other words, it is the error of failing to detect a significant difference or effect when such a difference or effect actually exists. The probability of making a type II error is denoted by β (beta).\n",
    "\n",
    "Example scenario:\n",
    "Suppose a medical researcher is testing a new drug and concludes that it is not effective in treating a disease, when in fact it is effective. This would be a type II error because the researcher has failed to detect the effectiveness of the drug, even though it is effective.\n",
    "\n",
    "It is important to note that there is a trade-off between type I and type II errors. By reducing the probability of one type of error, we increase the probability of the other. Therefore, the level of significance and power of the test must be carefully chosen to balance the risks of both types of errors."
   ]
  },
  {
   "cell_type": "code",
   "execution_count": null,
   "id": "f3138a7c-4241-4202-aabf-dd3e66592520",
   "metadata": {},
   "outputs": [],
   "source": [
    "Q4: Explain Bayes's theorem with an example."
   ]
  },
  {
   "cell_type": "markdown",
   "id": "6c6ca020-6b62-4b73-a062-e22a9ff7caf1",
   "metadata": {},
   "source": [
    "Ans:-Bayes' theorem is a statistical formula that describes the probability of an event based on prior knowledge of related conditions. The theorem provides a way to update our beliefs (or the probability) about an event as we receive more evidence or data.\n",
    "\n",
    "The formula for Bayes' theorem is:\n",
    "\n",
    "P(A|B) = P(B|A) * P(A) / P(B)\n",
    "\n",
    "where:\n",
    "\n",
    "P(A|B) is the probability of A given B\n",
    "P(B|A) is the probability of B given A\n",
    "P(A) is the prior probability of A\n",
    "P(B) is the prior probability of B\n",
    "An example scenario of using Bayes' theorem could be in medical diagnosis. Let's say there is a disease that affects 1% of the population. A medical test is created to detect the disease, and it has a 90% accuracy rate (i.e., the probability of a true positive is 0.9, and the probability of a true negative is 0.9). If a patient tests positive for the disease, what is the probability that they actually have the disease?\n",
    "\n",
    "Using Bayes' theorem, we can calculate the probability as follows:\n",
    "\n",
    "P(Disease) = 0.01 (the prior probability of having the disease)\n",
    "P(Positive|Disease) = 0.9 (the probability of testing positive given that the patient has the disease)\n",
    "P(Positive|No Disease) = 0.1 (the probability of testing positive given that the patient does not have the disease)\n",
    "P(No Disease) = 0.99 (the prior probability of not having the disease)\n",
    "We can then calculate the probability of having the disease given a positive test result as follows:\n",
    "\n",
    "P(Disease|Positive) = P(Positive|Disease) * P(Disease) / [P(Positive|Disease) * P(Disease) + P(Positive|No Disease) * P(No Disease)]\n",
    "= 0.9 * 0.01 / [0.9 * 0.01 + 0.1 * 0.99]\n",
    "= 0.0833\n",
    "\n",
    "So, the probability of having the disease given a positive test result is approximately 8.3%. This result shows that even with a highly accurate test, there is still a relatively low probability of having the disease if the prior probability is low"
   ]
  },
  {
   "cell_type": "code",
   "execution_count": null,
   "id": "12684b10-3403-4f48-b68f-6720c171d535",
   "metadata": {},
   "outputs": [],
   "source": [
    "Q5: What is a confidence interval? How to calculate the confidence interval, explain with an example."
   ]
  },
  {
   "cell_type": "markdown",
   "id": "c4bddeaf-0389-4b0f-aa0c-b5d853102ab2",
   "metadata": {},
   "source": [
    "Ans:-A confidence interval is a range of values that is likely to contain the true population parameter with a specified level of confidence. It provides an estimate of the precision of the sample estimate and helps us to quantify the uncertainty associated with the estimate.\n",
    "\n",
    "To calculate a confidence interval, we need to determine the sample mean, sample standard deviation, sample size, and the desired level of confidence. We then use the appropriate formula to determine the lower and upper bounds of the interval.\n",
    "\n",
    "For example, suppose we want to estimate the mean height of a population of adults with a 95% confidence interval. We take a random sample of 100 adults and measure their heights. The sample mean height is 68 inches, and the sample standard deviation is 2 inches. Using a t-distribution with 99 degrees of freedom (sample size minus one), we find the t-value for a 95% confidence level to be 1.984. The formula for the confidence interval is:\n",
    "\n",
    "Lower Bound = Sample Mean - (t-value * Standard Error)\n",
    "Upper Bound = Sample Mean + (t-value * Standard Error)\n",
    "\n",
    "Standard Error = Standard Deviation / Square Root of Sample Size\n",
    "\n",
    "Plugging in the values, we get:\n",
    "\n",
    "Standard Error = 2 / Square Root of 100 = 0.2\n",
    "t-value = 1.984\n",
    "Sample Mean = 68\n",
    "\n",
    "Lower Bound = 68 - (1.984 * 0.2) = 67.6\n",
    "Upper Bound = 68 + (1.984 * 0.2) = 68.4\n",
    "\n",
    "Therefore, we can say with 95% confidence that the true population mean height falls between 67.6 and 68.4 inches."
   ]
  },
  {
   "cell_type": "markdown",
   "id": "74c242af-d995-4fed-a1e6-9e6729fad8d6",
   "metadata": {},
   "source": [
    "Q6. Use Bayes' Theorem to calculate the probability of an event occurring given prior knowledge of the\n",
    "event's probability and new evidence. Provide a sample problem and solution."
   ]
  },
  {
   "cell_type": "markdown",
   "id": "71e3b15d-d7c8-4448-b789-90684ac096ee",
   "metadata": {},
   "source": [
    "Ans:-Sure, here's a sample problem and solution using Bayes' Theorem:\n",
    "\n",
    "Problem:\n",
    "Suppose that a certain medical test for a rare disease is 99% accurate, meaning that the probability of a positive test result given that the person has the disease is 0.99, and the probability of a negative test result given that the person does not have the disease is also 0.99. If the disease occurs in only 1 out of every 1,000 people, what is the probability that a person who tests positive for the disease actually has it?\n",
    "\n",
    "Solution:\n",
    "Let A be the event that a person has the disease, and let B be the event that the person tests positive for the disease. We want to calculate the probability of A given B, or P(A|B).\n",
    "\n",
    "Using Bayes' Theorem, we have:\n",
    "\n",
    "P(A|B) = P(B|A) * P(A) / P(B)\n",
    "\n",
    "where:\n",
    "P(B|A) = 0.99 (probability of a positive test result given the person has the disease)\n",
    "P(A) = 0.001 (probability of the disease occurring in the population)\n",
    "P(B) = P(B|A) * P(A) + P(B|not A) * P(not A) = 0.99 * 0.001 + 0.01 * 0.999 = 0.01098 (total probability of testing positive)\n",
    "\n",
    "Substituting these values into Bayes' Theorem, we get:\n",
    "\n",
    "P(A|B) = 0.99 * 0.001 / 0.01098 = 0.090 (or 9.0%)\n",
    "\n",
    "So the probability that a person who tests positive for the disease actually has it is only 9%. This illustrates the importance of considering both the sensitivity and specificity of a medical test, as well as the prevalence of the disease in the population, when interpreting test results."
   ]
  },
  {
   "cell_type": "code",
   "execution_count": null,
   "id": "88fd344d-b5f8-4fcc-90fc-12649a0f667f",
   "metadata": {},
   "outputs": [],
   "source": [
    "Q7. Calculate the 95% confidence interval for a sample of data with a mean of 50 and a standard deviation\n",
    "of 5. Interpret the results."
   ]
  },
  {
   "cell_type": "markdown",
   "id": "3ef2fb9f-17bf-4717-9e6b-4d5bfe6ad3d2",
   "metadata": {},
   "source": [
    "Ans:-To calculate the 95% confidence interval for a sample of data with a mean of 50 and a standard deviation of 5, we need to use the formula:\n",
    "\n",
    "Confidence Interval = Sample Mean ± (Critical Value) x (Standard Error)\n",
    "\n",
    "Here, we assume a normal distribution, and the critical value for a 95% confidence level with 1 degree of freedom (df) is 2.0. The standard error is calculated as the standard deviation divided by the square root of the sample size:\n",
    "\n",
    "Standard Error = Standard Deviation / √(Sample Size)\n",
    "\n",
    "Plugging in the values, we get:\n",
    "\n",
    "Standard Error = 5 / √(n)\n",
    "\n",
    "Assuming n = 25 (the sample size is not given in the question), we get:\n",
    "\n",
    "Standard Error = 5 / √(25) = 1\n",
    "\n",
    "Now we can calculate the confidence interval:\n",
    "\n",
    "Confidence Interval = 50 ± (2.0) x (1) = (48, 52)\n",
    "\n",
    "Interpretation: We can be 95% confident that the true population mean lies between 48 and 52. This means that if we were to take many samples and calculate their confidence intervals, we would expect about 95% of those intervals to contain the true population mean."
   ]
  },
  {
   "cell_type": "code",
   "execution_count": null,
   "id": "14603085-6957-4969-9fde-ec9a322078d5",
   "metadata": {},
   "outputs": [],
   "source": [
    "Q8. What is the margin of error in a confidence interval? How does sample size affect the margin of error?\n",
    "Provide an example of a scenario where a larger sample size would result in a smaller margin of error."
   ]
  },
  {
   "cell_type": "markdown",
   "id": "26937e6d-4f82-41ec-bb40-31e115dea272",
   "metadata": {},
   "source": [
    "Ans:-To calculate the 95% confidence interval for a sample of data with a mean of 50 and a standard deviation of 5, we need to use the formula:\n",
    "\n",
    "Confidence Interval = Sample Mean ± (Critical Value) x (Standard Error)\n",
    "\n",
    "Here, we assume a normal distribution, and the critical value for a 95% confidence level with 1 degree of freedom (df) is 2.0. The standard error is calculated as the standard deviation divided by the square root of the sample size:\n",
    "\n",
    "Standard Error = Standard Deviation / √(Sample Size)\n",
    "\n",
    "Plugging in the values, we get:\n",
    "\n",
    "Standard Error = 5 / √(n)\n",
    "\n",
    "Assuming n = 25 (the sample size is not given in the question), we get:\n",
    "\n",
    "Standard Error = 5 / √(25) = 1\n",
    "\n",
    "Now we can calculate the confidence interval:\n",
    "\n",
    "Confidence Interval = 50 ± (2.0) x (1) = (48, 52)\n",
    "\n",
    "Interpretation: We can be 95% confident that the true population mean lies between 48 and 52. This means that if we were to take many samples and calculate their confidence intervals, we would expect about 95% of those intervals to contain the true population mean.\n",
    "\n",
    "\n",
    "\n",
    "\n",
    "Akash Gupta\n",
    " What is the margin of error in a confidence interval? How does sample size affect the margin of error?\n",
    "Provide an example of a scenario where a larger sample size would result in a smaller margin of error.\n",
    "The margin of error in a confidence interval represents the range of values above and below the point estimate (usually the sample mean) that is likely to contain the true population parameter with a certain level of confidence. It is calculated by multiplying the critical value (obtained from the t or z distribution based on the level of confidence and degrees of freedom) by the standard error of the estimate.\n",
    "\n",
    "The formula for margin of error is:\n",
    "\n",
    "Margin of error = (critical value) x (standard error of the estimate)\n",
    "\n",
    "Sample size affects the margin of error in that a larger sample size generally results in a smaller margin of error. This is because as the sample size increases, the standard error of the estimate decreases, which in turn reduces the margin of error.\n",
    "\n",
    "For example, suppose a polling agency wants to estimate the proportion of voters who support a particular candidate in a city of 10,000 eligible voters. They take a random sample of 200 voters and find that 120 of them support the candidate. They calculate a 95% confidence interval for the true proportion of supporters to be between 0.55 and 0.65, with a margin of error of 0.05. If the polling agency were to increase the sample size to 400, the standard error of the estimate would decrease, resulting in a smaller margin of error (e.g., 0.03). This would increase the precision of their estimate and reduce the likelihood of making a type I or type II error.\n",
    "\n",
    "\n",
    "\n",
    "\n",
    "\n"
   ]
  },
  {
   "cell_type": "code",
   "execution_count": null,
   "id": "904048eb-ce2a-4a27-88d4-39fc733ec257",
   "metadata": {},
   "outputs": [],
   "source": []
  },
  {
   "cell_type": "code",
   "execution_count": null,
   "id": "a570897d-048e-4c7a-b48b-489e78b23bf5",
   "metadata": {},
   "outputs": [],
   "source": [
    "Q9. Calculate the z-score for a data point with a value of 75, a population mean of 70, and a population\n",
    "standard deviation of 5. Interpret the results."
   ]
  },
  {
   "cell_type": "markdown",
   "id": "19021f51-fe21-486b-a4f4-5ed62c83cd29",
   "metadata": {},
   "source": [
    " Ans:= The z-score is a measure of how many standard deviations a data point is from the population mean.\n",
    "\n",
    "In this case, the data point has a value of 75, which is 1 standard deviation above the population mean of 70. Using the formula for z-score:\n",
    "\n",
    "z = (x - μ) / σ\n",
    "\n",
    "where x is the data point, μ is the population mean, and σ is the population standard deviation, we get:\n",
    "\n",
    "z = (75 - 70) / 5 = 1\n",
    "\n",
    "This means that the data point is 1 standard deviation above the population mean."
   ]
  },
  {
   "cell_type": "code",
   "execution_count": null,
   "id": "daebd875-4596-4051-97cf-967e5c6b33a1",
   "metadata": {},
   "outputs": [],
   "source": [
    "Q10. In a study of the effectiveness of a new weight loss drug, a sample of 50 participants lost an average\n",
    "of 6 pounds with a standard deviation of 2.5 pounds. Conduct a hypothesis test to determine if the drug is\n",
    "significantly effective at a 95% confidence level using a t-test."
   ]
  },
  {
   "cell_type": "markdown",
   "id": "0ebd7f09-102f-4569-88ca-4ef373d52d0c",
   "metadata": {},
   "source": [
    "Ans:-Null Hypothesis: The weight loss drug is not significantly effective. µ = 0\n",
    "\n",
    "Alternative Hypothesis: The weight loss drug is significantly effective. µ ≠ 0\n",
    "\n",
    "Here, we have a sample size of 50, and the population standard deviation is unknown. Therefore, we will use a t-test for the hypothesis testing.\n",
    "\n",
    "The test statistic can be calculated as:\n",
    "\n",
    "t = (x̄ - µ) / (s / √n)\n",
    "\n",
    "Where x̄ is the sample mean, µ is the population mean, s is the sample standard deviation, and n is the sample size.\n",
    "\n",
    "Given data:\n",
    "\n",
    "Sample size (n) = 50\n",
    "Sample mean (x̄) = 6\n",
    "Sample standard deviation (s) = 2.5\n",
    "Confidence level = 95%\n",
    "\n",
    "We will assume a two-tailed test as we want to check if the drug is significantly effective in either direction.\n",
    "\n",
    "The critical t-value for a 95% confidence interval with 49 degrees of freedom is ±2.009.\n",
    "\n",
    "Calculating the test statistic:\n",
    "\n",
    "t = (x̄ - µ) / (s / √n)\n",
    "t = (6 - 0) / (2.5 / √50)\n",
    "t = 18.38\n",
    "\n",
    "As the calculated t-value (18.38) is greater than the critical t-value (2.009), we reject the null hypothesis. Therefore, we can conclude that the weight loss drug is significantly effective."
   ]
  },
  {
   "cell_type": "code",
   "execution_count": null,
   "id": "f01b56b2-96ef-4b2e-b07d-59dd8ce00815",
   "metadata": {},
   "outputs": [],
   "source": [
    "Q11. In a survey of 500 people, 65% reported being satisfied with their current job. Calculate the 95%\n",
    "confidence interval for the true proportion of people who are satisfied with their job."
   ]
  },
  {
   "cell_type": "markdown",
   "id": "9bdf59f9-be9a-4b80-9724-00880434049c",
   "metadata": {},
   "source": [
    "Ans:-To calculate the 95% confidence interval for the proportion of people who are satisfied with their job, we can use the following formula:\n",
    "\n",
    "Confidence Interval = sample proportion ± (z-score) * (standard error)\n",
    "\n",
    "where:\n",
    "\n",
    "sample proportion = 0.65 (given in the problem)\n",
    "z-score = 1.96 (for a 95% confidence level)\n",
    "standard error = sqrt((sample proportion * (1 - sample proportion)) / sample size)\n",
    "sample size = 500 (given in the problem)\n",
    "\n",
    "Plugging in the values, we get:\n",
    "\n",
    "standard error = sqrt((0.65 * 0.35) / 500) = 0.0315\n",
    "\n",
    "Confidence Interval = 0.65 ± (1.96 * 0.0315) = (0.59, 0.71)\n",
    "\n",
    "Interpretation: We can be 95% confident that the true proportion of people who are satisfied with their job is between 0.59 and 0.71."
   ]
  },
  {
   "cell_type": "code",
   "execution_count": null,
   "id": "d7a36789-0bc7-4c0b-80d1-2ece10329b90",
   "metadata": {},
   "outputs": [],
   "source": [
    "Q12. A researcher is testing the effectiveness of two different teaching methods on student performance.\n",
    "Sample A has a mean score of 85 with a standard deviation of 6, while sample B has a mean score of 82\n",
    "with a standard deviation of 5. Conduct a hypothesis test to determine if the two teaching methods have a\n",
    "significant difference in student performance using a t-test with a significance level of 0.01."
   ]
  },
  {
   "cell_type": "markdown",
   "id": "a06b5ed6-eabb-4db5-a2af-b3323af7b102",
   "metadata": {},
   "source": [
    "Ans:-To test whether the means of the two samples are significantly different, we can use a two-sample t-test for independent samples. The null hypothesis is that the means are equal, and the alternative hypothesis is that the means are not equal.\n",
    "\n",
    "The formula for the t-test statistic is:\n",
    "\n",
    "t = (x1 - x2) / sqrt((s1^2 / n1) + (s2^2 / n2))\n",
    "\n",
    "where x1 and x2 are the sample means, s1 and s2 are the sample standard deviations, and n1 and n2 are the sample sizes.\n",
    "\n",
    "For this problem:\n",
    "\n",
    "Sample A has a mean score of 85 with a standard deviation of 6 and a sample size of n1 = ?\n",
    "Sample B has a mean score of 82 with a standard deviation of 5 and a sample size of n2 = ?\n",
    "We are given that the significance level is 0.01, which means that we want the probability of observing a difference as extreme as the one we found to be less than 0.01.\n",
    "\n",
    "First, we need to calculate the pooled standard deviation:\n",
    "\n",
    "sp = sqrt(((n1 - 1) * s1^2 + (n2 - 1) * s2^2) / (n1 + n2 - 2))\n",
    "\n",
    "sp = sqrt(((? - 1) * 6^2 + (? - 1) * 5^2) / (? + ? - 2)) = ?\n",
    "\n",
    "Next, we can calculate the t-test statistic:\n",
    "\n",
    "t = (x1 - x2) / (sp * sqrt(1 / n1 + 1 / n2))\n",
    "\n",
    "t = (85 - 82) / (? * sqrt(1 / ? + 1 / ?)) = ?\n",
    "\n",
    "Using a t-distribution table or a calculator, we can find the critical t-value for a two-tailed test with a significance level of 0.01 and degrees of freedom equal to n1 + n2 - 2.\n",
    "\n",
    "t_critical = ±?\n",
    "\n",
    "If the calculated t-value falls outside of this range, we reject the null hypothesis and conclude that there is a significant difference between the two teaching methods.\n",
    "\n",
    "Interpreting the results:\n",
    "\n",
    "If the calculated t-value falls within the range of the critical t-values, we fail to reject the null hypothesis and conclude that there is not enough evidence to suggest that the means of the two samples are significantly different."
   ]
  },
  {
   "cell_type": "code",
   "execution_count": null,
   "id": "1be08aea-69e4-416d-b968-e72c66de1a2d",
   "metadata": {},
   "outputs": [],
   "source": [
    "Q13. A population has a mean of 60 and a standard deviation of 8. A sample of 50 observations has a mean\n",
    "of 65. Calculate the 90% confidence interval for the true population mean."
   ]
  },
  {
   "cell_type": "code",
   "execution_count": null,
   "id": "27ea09fb-2aee-4d94-9118-f1882c609e60",
   "metadata": {},
   "outputs": [],
   "source": [
    "Ans\"-To calculate the 90% confidence interval for the true population mean, we can use the formula:\n",
    "\n",
    "Confidence interval = sample mean ± margin of error\n",
    "\n",
    "where the margin of error is:\n",
    "\n",
    "Margin of error = z-score * standard error\n",
    "\n",
    "The z-score is determined based on the confidence level and can be found using a z-table or calculator. For a 90% confidence level, the z-score is 1.645.\n",
    "\n",
    "The standard error is calculated as the standard deviation of the population divided by the square root of the sample size:\n",
    "\n",
    "Standard error = population standard deviation / sqrt(sample size)\n",
    "\n",
    "Plugging in the values given in the problem, we get:\n",
    "\n",
    "Standard error = 8 / sqrt(50) = 1.131\n",
    "\n",
    "Then, we can calculate the margin of error:\n",
    "\n",
    "Margin of error = 1.645 * 1.131 = 1.861\n",
    "\n",
    "Finally, we can calculate the confidence interval:\n",
    "\n",
    "Confidence interval = 65 ± 1.861\n",
    "\n",
    "This gives us a 90% confidence interval of (63.14, 66.86).\n",
    "\n",
    "Interpretation: We are 90% confident that the true population mean falls within the range of 63.14 to 66.86 based on the given sample data"
   ]
  },
  {
   "cell_type": "code",
   "execution_count": null,
   "id": "533f2aff-8562-4b12-bec0-825c4eb2af53",
   "metadata": {},
   "outputs": [],
   "source": []
  },
  {
   "cell_type": "code",
   "execution_count": null,
   "id": "5f105fe4-032a-4872-be12-4b41c5a34621",
   "metadata": {},
   "outputs": [],
   "source": []
  }
 ],
 "metadata": {
  "kernelspec": {
   "display_name": "Python 3 (ipykernel)",
   "language": "python",
   "name": "python3"
  },
  "language_info": {
   "codemirror_mode": {
    "name": "ipython",
    "version": 3
   },
   "file_extension": ".py",
   "mimetype": "text/x-python",
   "name": "python",
   "nbconvert_exporter": "python",
   "pygments_lexer": "ipython3",
   "version": "3.10.8"
  }
 },
 "nbformat": 4,
 "nbformat_minor": 5
}
